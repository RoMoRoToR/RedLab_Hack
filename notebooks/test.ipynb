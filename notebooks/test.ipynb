{
 "cells": [
  {
   "metadata": {
    "ExecuteTime": {
     "end_time": "2024-05-25T22:13:19.432884Z",
     "start_time": "2024-05-25T22:09:34.924667Z"
    }
   },
   "cell_type": "code",
   "source": [
    "# Jupyter Notebook: anomaly_detection_example.ipynb\n",
    "\n",
    "import pandas as pd\n",
    "import numpy as np\n",
    "from sklearn.ensemble import IsolationForest\n",
    "from sklearn.metrics import classification_report\n",
    "\n",
    "# Step 1: Load Data\n",
    "data_path = '/Users/taniyashuba/PycharmProjects/RedLab_Hack/data/metrics_collector.tsv'\n",
    "data = pd.read_csv(data_path, sep='\\t')\n",
    "\n",
    "# Check available columns\n",
    "print(\"Available columns in the dataset:\")\n",
    "print(data.columns)\n",
    "\n",
    "# Step 2: Feature Engineering\n",
    "def compute_features(df):\n",
    "    \"\"\"\n",
    "    Вычисляет ключевые метрики.\n",
    "    \"\"\"\n",
    "    # Пример создания метрик на основе текущих данных\n",
    "    df['timestamp'] = pd.to_datetime(df['2024-04-15 23:32:00'], errors='coerce')\n",
    "    df['web_response'] = np.random.rand(len(df))  # Используем случайные данные для примера\n",
    "    df['throughput'] = np.random.randint(1, 100, len(df))  # Используем случайные данные для примера\n",
    "    df['apdex'] = np.random.rand(len(df))  # Используем случайные данные для примера\n",
    "    df['error_rate'] = np.random.rand(len(df))  # Используем случайные данные для примера\n",
    "    return df\n",
    "\n",
    "data_with_features = compute_features(data)\n",
    "\n",
    "# Step 3: Train Isolation Forest Model\n",
    "features = ['web_response', 'throughput', 'apdex', 'error_rate']\n",
    "model = IsolationForest(contamination=0.01, random_state=42)\n",
    "\n",
    "# Ensure the feature columns are present in the dataset\n",
    "if all(feature in data_with_features.columns for feature in features):\n",
    "    model.fit(data_with_features[features])\n",
    "\n",
    "    # Step 4: Detect Anomalies\n",
    "    data_with_features['anomaly'] = model.predict(data_with_features[features])\n",
    "    data_with_features['anomaly'] = data_with_features['anomaly'].apply(lambda x: 1 if x == -1 else 0)\n",
    "\n",
    "    # Step 5: Evaluate Model\n",
    "    # Here we simulate true labels, in a real case you would use real anomaly labels\n",
    "    np.random.seed(42)\n",
    "    true_labels = np.random.randint(2, size=len(data_with_features))\n",
    "\n",
    "    predicted_labels = data_with_features['anomaly']\n",
    "\n",
    "    report = classification_report(true_labels, predicted_labels)\n",
    "    print(report)\n",
    "else:\n",
    "    print(\"Required feature columns are missing in the dataset\")"
   ],
   "id": "265708dc497b4e78",
   "outputs": [
    {
     "name": "stderr",
     "output_type": "stream",
     "text": [
      "/var/folders/87/d35_l8056xbbpvj6g4knhvsm0000gn/T/ipykernel_28003/1346221251.py:10: DtypeWarning: Columns (13) have mixed types. Specify dtype option on import or set low_memory=False.\n",
      "  data = pd.read_csv(data_path, sep='\\t')\n"
     ]
    },
    {
     "name": "stdout",
     "output_type": "stream",
     "text": [
      "Available columns in the dataset:\n",
      "Index(['1', 'AgentCheck/CircuitBreaker/tripped/all', '2024-04-15 23:32:00',\n",
      "       '0', '0.1', '0.2', '0.3', '0.4', '0.5', '1.1', 'java',\n",
      "       '[GMonit] Collector', '17592186045423', 'Unnamed: 13', '575f5ba20b4b',\n",
      "       '575f5ba20b4b.1', '1.2', '8.5.0', '{}'],\n",
      "      dtype='object')\n",
      "              precision    recall  f1-score   support\n",
      "\n",
      "           0       0.50      0.99      0.66   9181837\n",
      "           1       0.50      0.01      0.02   9181912\n",
      "\n",
      "    accuracy                           0.50  18363749\n",
      "   macro avg       0.50      0.50      0.34  18363749\n",
      "weighted avg       0.50      0.50      0.34  18363749\n",
      "\n"
     ]
    }
   ],
   "execution_count": 5
  },
  {
   "metadata": {
    "ExecuteTime": {
     "end_time": "2024-05-25T22:25:42.615346Z",
     "start_time": "2024-05-25T22:25:40.030968Z"
    }
   },
   "cell_type": "code",
   "source": [
    "def compute_features(df):\n",
    "    \"\"\"\n",
    "    Вычисляет ключевые метрики.\n",
    "    \"\"\"\n",
    "    # Пример создания метрик на основе текущих данных\n",
    "    df['timestamp'] = pd.to_datetime(df['2024-04-15 23:32:00'], errors='coerce')\n",
    "    df['web_response'] = np.random.rand(len(df))  # Используем случайные данные для примера\n",
    "    df['throughput'] = np.random.randint(1, 100, len(df))  # Используем случайные данные для примера\n",
    "    df['apdex'] = np.random.rand(len(df))  # Используем случайные данные для примера\n",
    "    df['error_rate'] = np.random.rand(len(df))  # Используем случайные данные для примера\n",
    "    return df\n",
    "\n",
    "data_with_features = compute_features(data)\n",
    "data_with_features.head()"
   ],
   "id": "9d9e75f84ad70527",
   "outputs": [
    {
     "data": {
      "text/plain": [
       "   1  AgentCheck/CircuitBreaker/tripped/all  2024-04-15 23:32:00    0  0.1  \\\n",
       "0  1  AgentCheck/CircuitBreaker/tripped/all  2024-04-15 23:33:00  0.0  0.0   \n",
       "1  1  AgentCheck/CircuitBreaker/tripped/all  2024-04-15 23:34:00  0.0  0.0   \n",
       "2  1  AgentCheck/CircuitBreaker/tripped/all  2024-04-15 23:35:00  0.0  0.0   \n",
       "3  1  AgentCheck/CircuitBreaker/tripped/all  2024-04-15 23:36:00  0.0  0.0   \n",
       "4  1  AgentCheck/CircuitBreaker/tripped/all  2024-04-15 23:37:00  0.0  0.0   \n",
       "\n",
       "   0.2  0.3  0.4  0.5  1.1  ... 575f5ba20b4b.1 1.2  8.5.0  {}  \\\n",
       "0  0.0  0.0  0.0  0.0  1.0  ...   575f5ba20b4b   1  8.5.0  {}   \n",
       "1  0.0  0.0  0.0  0.0  1.0  ...   575f5ba20b4b   1  8.5.0  {}   \n",
       "2  0.0  0.0  0.0  0.0  1.0  ...   575f5ba20b4b   1  8.5.0  {}   \n",
       "3  0.0  0.0  0.0  0.0  1.0  ...   575f5ba20b4b   1  8.5.0  {}   \n",
       "4  0.0  0.0  0.0  0.0  1.0  ...   575f5ba20b4b   1  8.5.0  {}   \n",
       "\n",
       "            timestamp web_response  throughput     apdex error_rate anomaly  \n",
       "0 2024-04-15 23:33:00     0.814651          22  0.069843   0.768886       0  \n",
       "1 2024-04-15 23:34:00     0.681180          87  0.723998   0.428506       0  \n",
       "2 2024-04-15 23:35:00     0.979354          83  0.603003   0.644263       0  \n",
       "3 2024-04-15 23:36:00     0.082889          77  0.062881   0.307856       0  \n",
       "4 2024-04-15 23:37:00     0.027821          75  0.816805   0.129540       0  \n",
       "\n",
       "[5 rows x 25 columns]"
      ],
      "text/html": [
       "<div>\n",
       "<style scoped>\n",
       "    .dataframe tbody tr th:only-of-type {\n",
       "        vertical-align: middle;\n",
       "    }\n",
       "\n",
       "    .dataframe tbody tr th {\n",
       "        vertical-align: top;\n",
       "    }\n",
       "\n",
       "    .dataframe thead th {\n",
       "        text-align: right;\n",
       "    }\n",
       "</style>\n",
       "<table border=\"1\" class=\"dataframe\">\n",
       "  <thead>\n",
       "    <tr style=\"text-align: right;\">\n",
       "      <th></th>\n",
       "      <th>1</th>\n",
       "      <th>AgentCheck/CircuitBreaker/tripped/all</th>\n",
       "      <th>2024-04-15 23:32:00</th>\n",
       "      <th>0</th>\n",
       "      <th>0.1</th>\n",
       "      <th>0.2</th>\n",
       "      <th>0.3</th>\n",
       "      <th>0.4</th>\n",
       "      <th>0.5</th>\n",
       "      <th>1.1</th>\n",
       "      <th>...</th>\n",
       "      <th>575f5ba20b4b.1</th>\n",
       "      <th>1.2</th>\n",
       "      <th>8.5.0</th>\n",
       "      <th>{}</th>\n",
       "      <th>timestamp</th>\n",
       "      <th>web_response</th>\n",
       "      <th>throughput</th>\n",
       "      <th>apdex</th>\n",
       "      <th>error_rate</th>\n",
       "      <th>anomaly</th>\n",
       "    </tr>\n",
       "  </thead>\n",
       "  <tbody>\n",
       "    <tr>\n",
       "      <th>0</th>\n",
       "      <td>1</td>\n",
       "      <td>AgentCheck/CircuitBreaker/tripped/all</td>\n",
       "      <td>2024-04-15 23:33:00</td>\n",
       "      <td>0.0</td>\n",
       "      <td>0.0</td>\n",
       "      <td>0.0</td>\n",
       "      <td>0.0</td>\n",
       "      <td>0.0</td>\n",
       "      <td>0.0</td>\n",
       "      <td>1.0</td>\n",
       "      <td>...</td>\n",
       "      <td>575f5ba20b4b</td>\n",
       "      <td>1</td>\n",
       "      <td>8.5.0</td>\n",
       "      <td>{}</td>\n",
       "      <td>2024-04-15 23:33:00</td>\n",
       "      <td>0.814651</td>\n",
       "      <td>22</td>\n",
       "      <td>0.069843</td>\n",
       "      <td>0.768886</td>\n",
       "      <td>0</td>\n",
       "    </tr>\n",
       "    <tr>\n",
       "      <th>1</th>\n",
       "      <td>1</td>\n",
       "      <td>AgentCheck/CircuitBreaker/tripped/all</td>\n",
       "      <td>2024-04-15 23:34:00</td>\n",
       "      <td>0.0</td>\n",
       "      <td>0.0</td>\n",
       "      <td>0.0</td>\n",
       "      <td>0.0</td>\n",
       "      <td>0.0</td>\n",
       "      <td>0.0</td>\n",
       "      <td>1.0</td>\n",
       "      <td>...</td>\n",
       "      <td>575f5ba20b4b</td>\n",
       "      <td>1</td>\n",
       "      <td>8.5.0</td>\n",
       "      <td>{}</td>\n",
       "      <td>2024-04-15 23:34:00</td>\n",
       "      <td>0.681180</td>\n",
       "      <td>87</td>\n",
       "      <td>0.723998</td>\n",
       "      <td>0.428506</td>\n",
       "      <td>0</td>\n",
       "    </tr>\n",
       "    <tr>\n",
       "      <th>2</th>\n",
       "      <td>1</td>\n",
       "      <td>AgentCheck/CircuitBreaker/tripped/all</td>\n",
       "      <td>2024-04-15 23:35:00</td>\n",
       "      <td>0.0</td>\n",
       "      <td>0.0</td>\n",
       "      <td>0.0</td>\n",
       "      <td>0.0</td>\n",
       "      <td>0.0</td>\n",
       "      <td>0.0</td>\n",
       "      <td>1.0</td>\n",
       "      <td>...</td>\n",
       "      <td>575f5ba20b4b</td>\n",
       "      <td>1</td>\n",
       "      <td>8.5.0</td>\n",
       "      <td>{}</td>\n",
       "      <td>2024-04-15 23:35:00</td>\n",
       "      <td>0.979354</td>\n",
       "      <td>83</td>\n",
       "      <td>0.603003</td>\n",
       "      <td>0.644263</td>\n",
       "      <td>0</td>\n",
       "    </tr>\n",
       "    <tr>\n",
       "      <th>3</th>\n",
       "      <td>1</td>\n",
       "      <td>AgentCheck/CircuitBreaker/tripped/all</td>\n",
       "      <td>2024-04-15 23:36:00</td>\n",
       "      <td>0.0</td>\n",
       "      <td>0.0</td>\n",
       "      <td>0.0</td>\n",
       "      <td>0.0</td>\n",
       "      <td>0.0</td>\n",
       "      <td>0.0</td>\n",
       "      <td>1.0</td>\n",
       "      <td>...</td>\n",
       "      <td>575f5ba20b4b</td>\n",
       "      <td>1</td>\n",
       "      <td>8.5.0</td>\n",
       "      <td>{}</td>\n",
       "      <td>2024-04-15 23:36:00</td>\n",
       "      <td>0.082889</td>\n",
       "      <td>77</td>\n",
       "      <td>0.062881</td>\n",
       "      <td>0.307856</td>\n",
       "      <td>0</td>\n",
       "    </tr>\n",
       "    <tr>\n",
       "      <th>4</th>\n",
       "      <td>1</td>\n",
       "      <td>AgentCheck/CircuitBreaker/tripped/all</td>\n",
       "      <td>2024-04-15 23:37:00</td>\n",
       "      <td>0.0</td>\n",
       "      <td>0.0</td>\n",
       "      <td>0.0</td>\n",
       "      <td>0.0</td>\n",
       "      <td>0.0</td>\n",
       "      <td>0.0</td>\n",
       "      <td>1.0</td>\n",
       "      <td>...</td>\n",
       "      <td>575f5ba20b4b</td>\n",
       "      <td>1</td>\n",
       "      <td>8.5.0</td>\n",
       "      <td>{}</td>\n",
       "      <td>2024-04-15 23:37:00</td>\n",
       "      <td>0.027821</td>\n",
       "      <td>75</td>\n",
       "      <td>0.816805</td>\n",
       "      <td>0.129540</td>\n",
       "      <td>0</td>\n",
       "    </tr>\n",
       "  </tbody>\n",
       "</table>\n",
       "<p>5 rows × 25 columns</p>\n",
       "</div>"
      ]
     },
     "execution_count": 7,
     "metadata": {},
     "output_type": "execute_result"
    }
   ],
   "execution_count": 7
  },
  {
   "metadata": {
    "ExecuteTime": {
     "end_time": "2024-05-25T22:27:07.679765Z",
     "start_time": "2024-05-25T22:25:47.464857Z"
    }
   },
   "cell_type": "code",
   "source": [
    "from sklearn.ensemble import IsolationForest\n",
    "\n",
    "features = ['web_response', 'throughput', 'apdex', 'error_rate']\n",
    "model = IsolationForest(contamination=0.01, random_state=42)\n",
    "\n",
    "# Ensure the feature columns are present in the dataset\n",
    "if all(feature in data_with_features.columns for feature in features):\n",
    "    model.fit(data_with_features[features])\n",
    "else:\n",
    "    print(\"Required feature columns are missing in the dataset\")"
   ],
   "id": "43d456b34bc08c94",
   "outputs": [],
   "execution_count": 8
  },
  {
   "metadata": {
    "ExecuteTime": {
     "end_time": "2024-05-25T22:28:40.425617Z",
     "start_time": "2024-05-25T22:27:23.899978Z"
    }
   },
   "cell_type": "code",
   "source": [
    "if all(feature in data_with_features.columns for feature in features):\n",
    "    data_with_features['anomaly'] = model.predict(data_with_features[features])\n",
    "    data_with_features['anomaly'] = data_with_features['anomaly'].apply(lambda x: 1 if x == -1 else 0)\n",
    "    data_with_features.head()"
   ],
   "id": "f0877b559043754f",
   "outputs": [],
   "execution_count": 9
  },
  {
   "metadata": {
    "ExecuteTime": {
     "end_time": "2024-05-25T22:28:58.987012Z",
     "start_time": "2024-05-25T22:28:40.426676Z"
    }
   },
   "cell_type": "code",
   "source": [
    "from sklearn.metrics import classification_report\n",
    "import numpy as np\n",
    "\n",
    "# Here we simulate true labels, in a real case you would use real anomaly labels\n",
    "np.random.seed(42)\n",
    "true_labels = np.random.randint(2, size=len(data_with_features))\n",
    "\n",
    "predicted_labels = data_with_features['anomaly']\n",
    "\n",
    "report = classification_report(true_labels, predicted_labels)\n",
    "print(report)"
   ],
   "id": "2a866f6d2c3b0699",
   "outputs": [
    {
     "name": "stdout",
     "output_type": "stream",
     "text": [
      "              precision    recall  f1-score   support\n",
      "\n",
      "           0       0.50      0.99      0.66   9181837\n",
      "           1       0.50      0.01      0.02   9181912\n",
      "\n",
      "    accuracy                           0.50  18363749\n",
      "   macro avg       0.50      0.50      0.34  18363749\n",
      "weighted avg       0.50      0.50      0.34  18363749\n",
      "\n"
     ]
    }
   ],
   "execution_count": 10
  },
  {
   "metadata": {
    "ExecuteTime": {
     "end_time": "2024-05-25T22:33:58.949801Z",
     "start_time": "2024-05-25T22:33:21.040774Z"
    }
   },
   "cell_type": "code",
   "source": [
    "# Anomaly Detection using LSTM\n",
    "import pandas as pd\n",
    "import numpy as np\n",
    "from sklearn.preprocessing import MinMaxScaler\n",
    "import matplotlib.pyplot as plt\n",
    "\n",
    "data_path = '/Users/taniyashuba/PycharmProjects/RedLab_Hack/data/metrics_collector.tsv'\n",
    "data = pd.read_csv(data_path, sep='\\t', low_memory=False)\n",
    "\n",
    "# Check available columns\n",
    "print(\"Available columns in the dataset:\")\n",
    "print(data.columns)\n",
    "\n",
    "# Create a time series based on the available data\n",
    "data['timestamp'] = pd.to_datetime(data['2024-04-15 23:32:00'], errors='coerce')\n",
    "data.set_index('timestamp', inplace=True)\n",
    "data = data.sort_index()\n",
    "\n",
    "# Assume '0.1' as a feature for simplicity, replace with actual features as needed\n",
    "data = data[['0.1']]\n",
    "data = data.dropna()\n",
    "data.head()\n"
   ],
   "id": "49dfe6062018b879",
   "outputs": [
    {
     "name": "stdout",
     "output_type": "stream",
     "text": [
      "Available columns in the dataset:\n",
      "Index(['1', 'AgentCheck/CircuitBreaker/tripped/all', '2024-04-15 23:32:00',\n",
      "       '0', '0.1', '0.2', '0.3', '0.4', '0.5', '1.1', 'java',\n",
      "       '[GMonit] Collector', '17592186045423', 'Unnamed: 13', '575f5ba20b4b',\n",
      "       '575f5ba20b4b.1', '1.2', '8.5.0', '{}'],\n",
      "      dtype='object')\n"
     ]
    },
    {
     "data": {
      "text/plain": [
       "                          0.1\n",
       "timestamp                    \n",
       "2024-04-15 23:32:00     0.000\n",
       "2024-04-15 23:32:00  3874.000\n",
       "2024-04-15 23:32:00     0.005\n",
       "2024-04-15 23:32:00     0.000\n",
       "2024-04-15 23:32:00  3874.000"
      ],
      "text/html": [
       "<div>\n",
       "<style scoped>\n",
       "    .dataframe tbody tr th:only-of-type {\n",
       "        vertical-align: middle;\n",
       "    }\n",
       "\n",
       "    .dataframe tbody tr th {\n",
       "        vertical-align: top;\n",
       "    }\n",
       "\n",
       "    .dataframe thead th {\n",
       "        text-align: right;\n",
       "    }\n",
       "</style>\n",
       "<table border=\"1\" class=\"dataframe\">\n",
       "  <thead>\n",
       "    <tr style=\"text-align: right;\">\n",
       "      <th></th>\n",
       "      <th>0.1</th>\n",
       "    </tr>\n",
       "    <tr>\n",
       "      <th>timestamp</th>\n",
       "      <th></th>\n",
       "    </tr>\n",
       "  </thead>\n",
       "  <tbody>\n",
       "    <tr>\n",
       "      <th>2024-04-15 23:32:00</th>\n",
       "      <td>0.000</td>\n",
       "    </tr>\n",
       "    <tr>\n",
       "      <th>2024-04-15 23:32:00</th>\n",
       "      <td>3874.000</td>\n",
       "    </tr>\n",
       "    <tr>\n",
       "      <th>2024-04-15 23:32:00</th>\n",
       "      <td>0.005</td>\n",
       "    </tr>\n",
       "    <tr>\n",
       "      <th>2024-04-15 23:32:00</th>\n",
       "      <td>0.000</td>\n",
       "    </tr>\n",
       "    <tr>\n",
       "      <th>2024-04-15 23:32:00</th>\n",
       "      <td>3874.000</td>\n",
       "    </tr>\n",
       "  </tbody>\n",
       "</table>\n",
       "</div>"
      ]
     },
     "execution_count": 11,
     "metadata": {},
     "output_type": "execute_result"
    }
   ],
   "execution_count": 11
  },
  {
   "metadata": {
    "ExecuteTime": {
     "end_time": "2024-05-25T22:34:11.032747Z",
     "start_time": "2024-05-25T22:33:58.951439Z"
    }
   },
   "cell_type": "code",
   "source": [
    "scaler = MinMaxScaler()\n",
    "scaled_data = scaler.fit_transform(data)\n",
    "\n",
    "def create_sequences(data, seq_length):\n",
    "    xs, ys = [], []\n",
    "    for i in range(len(data) - seq_length):\n",
    "        x = data[i:i+seq_length]\n",
    "        y = data[i+seq_length]\n",
    "        xs.append(x)\n",
    "        ys.append(y)\n",
    "    return np.array(xs), np.array(ys)\n",
    "\n",
    "seq_length = 50\n",
    "X, y = create_sequences(scaled_data, seq_length)\n",
    "\n",
    "X = np.reshape(X, (X.shape[0], X.shape[1], 1))\n"
   ],
   "id": "5901eda6ab637fae",
   "outputs": [],
   "execution_count": 12
  },
  {
   "metadata": {
    "jupyter": {
     "is_executing": true
    },
    "ExecuteTime": {
     "start_time": "2024-05-25T22:35:32.117539Z"
    }
   },
   "cell_type": "code",
   "source": [
    "from tensorflow.keras.models import Sequential\n",
    "from tensorflow.keras.layers import LSTM, Dense, Dropout\n",
    "\n",
    "model = Sequential()\n",
    "model.add(LSTM(units=50, return_sequences=True, input_shape=(X.shape[1], 1)))\n",
    "model.add(Dropout(0.2))\n",
    "model.add(LSTM(units=50, return_sequences=False))\n",
    "model.add(Dropout(0.2))\n",
    "model.add(Dense(units=1))\n",
    "\n",
    "model.compile(optimizer='adam', loss='mean_squared_error')\n",
    "model.summary()\n",
    "\n",
    "history = model.fit(X, y, epochs=20, batch_size=32, validation_split=0.1)\n"
   ],
   "id": "2ccbc011d585dd26",
   "outputs": [
    {
     "name": "stderr",
     "output_type": "stream",
     "text": [
      "/Users/taniyashuba/Library/Python/3.9/lib/python/site-packages/keras/src/layers/rnn/rnn.py:204: UserWarning: Do not pass an `input_shape`/`input_dim` argument to a layer. When using Sequential models, prefer using an `Input(shape)` object as the first layer in the model instead.\n",
      "  super().__init__(**kwargs)\n"
     ]
    },
    {
     "data": {
      "text/plain": [
       "\u001B[1mModel: \"sequential_1\"\u001B[0m\n"
      ],
      "text/html": [
       "<pre style=\"white-space:pre;overflow-x:auto;line-height:normal;font-family:Menlo,'DejaVu Sans Mono',consolas,'Courier New',monospace\"><span style=\"font-weight: bold\">Model: \"sequential_1\"</span>\n",
       "</pre>\n"
      ]
     },
     "metadata": {},
     "output_type": "display_data"
    },
    {
     "data": {
      "text/plain": [
       "┏━━━━━━━━━━━━━━━━━━━━━━━━━━━━━━━━━┳━━━━━━━━━━━━━━━━━━━━━━━━┳━━━━━━━━━━━━━━━┓\n",
       "┃\u001B[1m \u001B[0m\u001B[1mLayer (type)                   \u001B[0m\u001B[1m \u001B[0m┃\u001B[1m \u001B[0m\u001B[1mOutput Shape          \u001B[0m\u001B[1m \u001B[0m┃\u001B[1m \u001B[0m\u001B[1m      Param #\u001B[0m\u001B[1m \u001B[0m┃\n",
       "┡━━━━━━━━━━━━━━━━━━━━━━━━━━━━━━━━━╇━━━━━━━━━━━━━━━━━━━━━━━━╇━━━━━━━━━━━━━━━┩\n",
       "│ lstm_2 (\u001B[38;5;33mLSTM\u001B[0m)                   │ (\u001B[38;5;45mNone\u001B[0m, \u001B[38;5;34m50\u001B[0m, \u001B[38;5;34m50\u001B[0m)         │        \u001B[38;5;34m10,400\u001B[0m │\n",
       "├─────────────────────────────────┼────────────────────────┼───────────────┤\n",
       "│ dropout_2 (\u001B[38;5;33mDropout\u001B[0m)             │ (\u001B[38;5;45mNone\u001B[0m, \u001B[38;5;34m50\u001B[0m, \u001B[38;5;34m50\u001B[0m)         │             \u001B[38;5;34m0\u001B[0m │\n",
       "├─────────────────────────────────┼────────────────────────┼───────────────┤\n",
       "│ lstm_3 (\u001B[38;5;33mLSTM\u001B[0m)                   │ (\u001B[38;5;45mNone\u001B[0m, \u001B[38;5;34m50\u001B[0m)             │        \u001B[38;5;34m20,200\u001B[0m │\n",
       "├─────────────────────────────────┼────────────────────────┼───────────────┤\n",
       "│ dropout_3 (\u001B[38;5;33mDropout\u001B[0m)             │ (\u001B[38;5;45mNone\u001B[0m, \u001B[38;5;34m50\u001B[0m)             │             \u001B[38;5;34m0\u001B[0m │\n",
       "├─────────────────────────────────┼────────────────────────┼───────────────┤\n",
       "│ dense_1 (\u001B[38;5;33mDense\u001B[0m)                 │ (\u001B[38;5;45mNone\u001B[0m, \u001B[38;5;34m1\u001B[0m)              │            \u001B[38;5;34m51\u001B[0m │\n",
       "└─────────────────────────────────┴────────────────────────┴───────────────┘\n"
      ],
      "text/html": [
       "<pre style=\"white-space:pre;overflow-x:auto;line-height:normal;font-family:Menlo,'DejaVu Sans Mono',consolas,'Courier New',monospace\">┏━━━━━━━━━━━━━━━━━━━━━━━━━━━━━━━━━┳━━━━━━━━━━━━━━━━━━━━━━━━┳━━━━━━━━━━━━━━━┓\n",
       "┃<span style=\"font-weight: bold\"> Layer (type)                    </span>┃<span style=\"font-weight: bold\"> Output Shape           </span>┃<span style=\"font-weight: bold\">       Param # </span>┃\n",
       "┡━━━━━━━━━━━━━━━━━━━━━━━━━━━━━━━━━╇━━━━━━━━━━━━━━━━━━━━━━━━╇━━━━━━━━━━━━━━━┩\n",
       "│ lstm_2 (<span style=\"color: #0087ff; text-decoration-color: #0087ff\">LSTM</span>)                   │ (<span style=\"color: #00d7ff; text-decoration-color: #00d7ff\">None</span>, <span style=\"color: #00af00; text-decoration-color: #00af00\">50</span>, <span style=\"color: #00af00; text-decoration-color: #00af00\">50</span>)         │        <span style=\"color: #00af00; text-decoration-color: #00af00\">10,400</span> │\n",
       "├─────────────────────────────────┼────────────────────────┼───────────────┤\n",
       "│ dropout_2 (<span style=\"color: #0087ff; text-decoration-color: #0087ff\">Dropout</span>)             │ (<span style=\"color: #00d7ff; text-decoration-color: #00d7ff\">None</span>, <span style=\"color: #00af00; text-decoration-color: #00af00\">50</span>, <span style=\"color: #00af00; text-decoration-color: #00af00\">50</span>)         │             <span style=\"color: #00af00; text-decoration-color: #00af00\">0</span> │\n",
       "├─────────────────────────────────┼────────────────────────┼───────────────┤\n",
       "│ lstm_3 (<span style=\"color: #0087ff; text-decoration-color: #0087ff\">LSTM</span>)                   │ (<span style=\"color: #00d7ff; text-decoration-color: #00d7ff\">None</span>, <span style=\"color: #00af00; text-decoration-color: #00af00\">50</span>)             │        <span style=\"color: #00af00; text-decoration-color: #00af00\">20,200</span> │\n",
       "├─────────────────────────────────┼────────────────────────┼───────────────┤\n",
       "│ dropout_3 (<span style=\"color: #0087ff; text-decoration-color: #0087ff\">Dropout</span>)             │ (<span style=\"color: #00d7ff; text-decoration-color: #00d7ff\">None</span>, <span style=\"color: #00af00; text-decoration-color: #00af00\">50</span>)             │             <span style=\"color: #00af00; text-decoration-color: #00af00\">0</span> │\n",
       "├─────────────────────────────────┼────────────────────────┼───────────────┤\n",
       "│ dense_1 (<span style=\"color: #0087ff; text-decoration-color: #0087ff\">Dense</span>)                 │ (<span style=\"color: #00d7ff; text-decoration-color: #00d7ff\">None</span>, <span style=\"color: #00af00; text-decoration-color: #00af00\">1</span>)              │            <span style=\"color: #00af00; text-decoration-color: #00af00\">51</span> │\n",
       "└─────────────────────────────────┴────────────────────────┴───────────────┘\n",
       "</pre>\n"
      ]
     },
     "metadata": {},
     "output_type": "display_data"
    },
    {
     "data": {
      "text/plain": [
       "\u001B[1m Total params: \u001B[0m\u001B[38;5;34m30,651\u001B[0m (119.73 KB)\n"
      ],
      "text/html": [
       "<pre style=\"white-space:pre;overflow-x:auto;line-height:normal;font-family:Menlo,'DejaVu Sans Mono',consolas,'Courier New',monospace\"><span style=\"font-weight: bold\"> Total params: </span><span style=\"color: #00af00; text-decoration-color: #00af00\">30,651</span> (119.73 KB)\n",
       "</pre>\n"
      ]
     },
     "metadata": {},
     "output_type": "display_data"
    },
    {
     "data": {
      "text/plain": [
       "\u001B[1m Trainable params: \u001B[0m\u001B[38;5;34m30,651\u001B[0m (119.73 KB)\n"
      ],
      "text/html": [
       "<pre style=\"white-space:pre;overflow-x:auto;line-height:normal;font-family:Menlo,'DejaVu Sans Mono',consolas,'Courier New',monospace\"><span style=\"font-weight: bold\"> Trainable params: </span><span style=\"color: #00af00; text-decoration-color: #00af00\">30,651</span> (119.73 KB)\n",
       "</pre>\n"
      ]
     },
     "metadata": {},
     "output_type": "display_data"
    },
    {
     "data": {
      "text/plain": [
       "\u001B[1m Non-trainable params: \u001B[0m\u001B[38;5;34m0\u001B[0m (0.00 B)\n"
      ],
      "text/html": [
       "<pre style=\"white-space:pre;overflow-x:auto;line-height:normal;font-family:Menlo,'DejaVu Sans Mono',consolas,'Courier New',monospace\"><span style=\"font-weight: bold\"> Non-trainable params: </span><span style=\"color: #00af00; text-decoration-color: #00af00\">0</span> (0.00 B)\n",
       "</pre>\n"
      ]
     },
     "metadata": {},
     "output_type": "display_data"
    },
    {
     "name": "stdout",
     "output_type": "stream",
     "text": [
      "Epoch 1/20\n",
      "\u001B[1m 23943/516480\u001B[0m \u001B[37m━━━━━━━━━━━━━━━━━━━━\u001B[0m \u001B[1m2:25:12\u001B[0m 18ms/step - loss: 2.1375e-07"
     ]
    }
   ],
   "execution_count": null
  },
  {
   "metadata": {
    "ExecuteTime": {
     "end_time": "2024-05-25T22:35:09.295849Z",
     "start_time": "2024-05-25T22:35:09.295770Z"
    }
   },
   "cell_type": "code",
   "source": [
    "# Make predictions\n",
    "y_pred = model.predict(X)\n",
    "\n",
    "# Compute reconstruction error\n",
    "reconstruction_error = np.mean(np.abs(y_pred - y), axis=1)\n",
    "\n",
    "# Define threshold for anomalies\n",
    "threshold = np.mean(reconstruction_error) + 3 * np.std(reconstruction_error)\n",
    "\n",
    "# Label anomalies\n",
    "anomalies = reconstruction_error > threshold\n",
    "anomalies = np.concatenate(([False]*seq_length, anomalies))  # pad with False for the initial sequence\n",
    "\n",
    "data['anomaly'] = anomalies\n",
    "\n",
    "# Plot anomalies\n",
    "plt.figure(figsize=(15, 5))\n",
    "plt.plot(data.index, data['0.1'], label='Metric')\n",
    "plt.scatter(data.index[anomalies], data['0.1'][anomalies], color='red', label='Anomaly')\n",
    "plt.legend()\n",
    "plt.show()"
   ],
   "id": "8b2b0d2610893f7f",
   "outputs": [],
   "execution_count": null
  },
  {
   "metadata": {},
   "cell_type": "code",
   "source": [
    "from sklearn.metrics import classification_report\n",
    "\n",
    "# Here we simulate true labels, in a real case you would use real anomaly labels\n",
    "np.random.seed(42)\n",
    "true_labels = np.random.randint(2, size=len(data))\n",
    "\n",
    "predicted_labels = data['anomaly'].astype(int)\n",
    "\n",
    "report = classification_report(true_labels, predicted_labels)\n",
    "print(report)"
   ],
   "id": "4609c1abaa57d6f5",
   "outputs": [],
   "execution_count": null
  },
  {
   "metadata": {},
   "cell_type": "code",
   "outputs": [],
   "execution_count": null,
   "source": "",
   "id": "494699cec209b1cd"
  }
 ],
 "metadata": {
  "kernelspec": {
   "display_name": "Python 3",
   "language": "python",
   "name": "python3"
  },
  "language_info": {
   "codemirror_mode": {
    "name": "ipython",
    "version": 2
   },
   "file_extension": ".py",
   "mimetype": "text/x-python",
   "name": "python",
   "nbconvert_exporter": "python",
   "pygments_lexer": "ipython2",
   "version": "2.7.6"
  }
 },
 "nbformat": 4,
 "nbformat_minor": 5
}
